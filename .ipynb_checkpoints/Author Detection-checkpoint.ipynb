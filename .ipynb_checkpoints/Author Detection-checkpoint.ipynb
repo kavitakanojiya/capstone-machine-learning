{
 "cells": [
  {
   "cell_type": "markdown",
   "metadata": {},
   "source": [
    "#### Notes\n",
    "\n",
    "The competition dataset contains text from works of fiction written by spooky authors of the public domain: Edgar Allan Poe, HP Lovecraft and Mary Shelley. The data was prepared by chunking larger texts into sentences using CoreNLP's MaxEnt sentence tokenizer, so you may notice the odd non-sentence here and there. Your objective is to accurately identify the author of the sentences in the test set.\n",
    "\n",
    "##### File descriptions\n",
    "`train.csv` - the training set\n",
    "\n",
    "`test.csv` - the test set\n",
    "\n",
    "`sample_submission.csv` - a sample submission file in the correct format\n",
    "\n",
    "##### Data fields\n",
    "`id` - a unique identifier for each sentence\n",
    "\n",
    "`text` - some text written by one of the authors\n",
    "\n",
    "`author` - the author of the sentence (EAP: Edgar Allan Poe, HPL: HP Lovecraft; MWS: Mary Wollstonecraft Shelley)\n",
    "\n",
    "A reminder about playground competitions: On Kaggle, the spirit of playground competitions is to have fun and learn together. Your score on the leaderboard doesn't earn you points, but you can still make it a rewarding competition for everyone by sharing your code in Kernels and contributing to Discussions (there are prizes for both!). In short, please don't look up the answers."
   ]
  },
  {
   "cell_type": "markdown",
   "metadata": {},
   "source": [
    "### Import libraries"
   ]
  },
  {
   "cell_type": "code",
   "execution_count": 157,
   "metadata": {},
   "outputs": [],
   "source": [
    "# Load libraries #\n",
    "\n",
    "import csv\n",
    "import json\n",
    "\n",
    "import numpy\n",
    "import pandas\n",
    "from matplotlib import pyplot"
   ]
  },
  {
   "cell_type": "markdown",
   "metadata": {},
   "source": [
    "### Load datasets"
   ]
  },
  {
   "cell_type": "code",
   "execution_count": 158,
   "metadata": {},
   "outputs": [],
   "source": [
    "# Load all data #\n",
    "\n",
    "authored_contents = pandas.read_csv(\"./author detection datasets/train.csv\")\n",
    "\n",
    "unauthored_contents = pandas.read_csv(\"./author detection datasets/test.csv\")"
   ]
  },
  {
   "cell_type": "code",
   "execution_count": 159,
   "metadata": {},
   "outputs": [
    {
     "data": {
      "text/html": [
       "<div>\n",
       "<style scoped>\n",
       "    .dataframe tbody tr th:only-of-type {\n",
       "        vertical-align: middle;\n",
       "    }\n",
       "\n",
       "    .dataframe tbody tr th {\n",
       "        vertical-align: top;\n",
       "    }\n",
       "\n",
       "    .dataframe thead th {\n",
       "        text-align: right;\n",
       "    }\n",
       "</style>\n",
       "<table border=\"1\" class=\"dataframe\">\n",
       "  <thead>\n",
       "    <tr style=\"text-align: right;\">\n",
       "      <th></th>\n",
       "      <th>id</th>\n",
       "      <th>text</th>\n",
       "      <th>author</th>\n",
       "    </tr>\n",
       "  </thead>\n",
       "  <tbody>\n",
       "    <tr>\n",
       "      <th>0</th>\n",
       "      <td>id26305</td>\n",
       "      <td>This process, however, afforded me no means of...</td>\n",
       "      <td>EAP</td>\n",
       "    </tr>\n",
       "    <tr>\n",
       "      <th>1</th>\n",
       "      <td>id17569</td>\n",
       "      <td>It never once occurred to me that the fumbling...</td>\n",
       "      <td>HPL</td>\n",
       "    </tr>\n",
       "    <tr>\n",
       "      <th>2</th>\n",
       "      <td>id11008</td>\n",
       "      <td>In his left hand was a gold snuff box, from wh...</td>\n",
       "      <td>EAP</td>\n",
       "    </tr>\n",
       "    <tr>\n",
       "      <th>3</th>\n",
       "      <td>id27763</td>\n",
       "      <td>How lovely is spring As we looked from Windsor...</td>\n",
       "      <td>MWS</td>\n",
       "    </tr>\n",
       "    <tr>\n",
       "      <th>4</th>\n",
       "      <td>id12958</td>\n",
       "      <td>Finding nothing else, not even gold, the Super...</td>\n",
       "      <td>HPL</td>\n",
       "    </tr>\n",
       "  </tbody>\n",
       "</table>\n",
       "</div>"
      ],
      "text/plain": [
       "        id                                               text author\n",
       "0  id26305  This process, however, afforded me no means of...    EAP\n",
       "1  id17569  It never once occurred to me that the fumbling...    HPL\n",
       "2  id11008  In his left hand was a gold snuff box, from wh...    EAP\n",
       "3  id27763  How lovely is spring As we looked from Windsor...    MWS\n",
       "4  id12958  Finding nothing else, not even gold, the Super...    HPL"
      ]
     },
     "execution_count": 159,
     "metadata": {},
     "output_type": "execute_result"
    }
   ],
   "source": [
    "authored_contents.head()"
   ]
  },
  {
   "cell_type": "code",
   "execution_count": 160,
   "metadata": {},
   "outputs": [
    {
     "data": {
      "text/html": [
       "<div>\n",
       "<style scoped>\n",
       "    .dataframe tbody tr th:only-of-type {\n",
       "        vertical-align: middle;\n",
       "    }\n",
       "\n",
       "    .dataframe tbody tr th {\n",
       "        vertical-align: top;\n",
       "    }\n",
       "\n",
       "    .dataframe thead th {\n",
       "        text-align: right;\n",
       "    }\n",
       "</style>\n",
       "<table border=\"1\" class=\"dataframe\">\n",
       "  <thead>\n",
       "    <tr style=\"text-align: right;\">\n",
       "      <th></th>\n",
       "      <th>id</th>\n",
       "      <th>text</th>\n",
       "    </tr>\n",
       "  </thead>\n",
       "  <tbody>\n",
       "    <tr>\n",
       "      <th>0</th>\n",
       "      <td>id02310</td>\n",
       "      <td>Still, as I urged our leaving Ireland with suc...</td>\n",
       "    </tr>\n",
       "    <tr>\n",
       "      <th>1</th>\n",
       "      <td>id24541</td>\n",
       "      <td>If a fire wanted fanning, it could readily be ...</td>\n",
       "    </tr>\n",
       "    <tr>\n",
       "      <th>2</th>\n",
       "      <td>id00134</td>\n",
       "      <td>And when they had broken down the frail door t...</td>\n",
       "    </tr>\n",
       "    <tr>\n",
       "      <th>3</th>\n",
       "      <td>id27757</td>\n",
       "      <td>While I was thinking how I should possibly man...</td>\n",
       "    </tr>\n",
       "    <tr>\n",
       "      <th>4</th>\n",
       "      <td>id04081</td>\n",
       "      <td>I am not sure to what limit his knowledge may ...</td>\n",
       "    </tr>\n",
       "  </tbody>\n",
       "</table>\n",
       "</div>"
      ],
      "text/plain": [
       "        id                                               text\n",
       "0  id02310  Still, as I urged our leaving Ireland with suc...\n",
       "1  id24541  If a fire wanted fanning, it could readily be ...\n",
       "2  id00134  And when they had broken down the frail door t...\n",
       "3  id27757  While I was thinking how I should possibly man...\n",
       "4  id04081  I am not sure to what limit his knowledge may ..."
      ]
     },
     "execution_count": 160,
     "metadata": {},
     "output_type": "execute_result"
    }
   ],
   "source": [
    "unauthored_contents.head()"
   ]
  },
  {
   "cell_type": "code",
   "execution_count": 161,
   "metadata": {},
   "outputs": [
    {
     "data": {
      "text/plain": [
       "(19579, 3)"
      ]
     },
     "execution_count": 161,
     "metadata": {},
     "output_type": "execute_result"
    }
   ],
   "source": [
    "authored_contents.shape"
   ]
  },
  {
   "cell_type": "markdown",
   "metadata": {},
   "source": [
    "### Data Exploration"
   ]
  },
  {
   "cell_type": "code",
   "execution_count": 162,
   "metadata": {},
   "outputs": [
    {
     "data": {
      "text/html": [
       "<div>\n",
       "<style scoped>\n",
       "    .dataframe tbody tr th:only-of-type {\n",
       "        vertical-align: middle;\n",
       "    }\n",
       "\n",
       "    .dataframe tbody tr th {\n",
       "        vertical-align: top;\n",
       "    }\n",
       "\n",
       "    .dataframe thead th {\n",
       "        text-align: right;\n",
       "    }\n",
       "</style>\n",
       "<table border=\"1\" class=\"dataframe\">\n",
       "  <thead>\n",
       "    <tr style=\"text-align: right;\">\n",
       "      <th></th>\n",
       "      <th>id</th>\n",
       "      <th>text</th>\n",
       "      <th>author</th>\n",
       "    </tr>\n",
       "  </thead>\n",
       "  <tbody>\n",
       "    <tr>\n",
       "      <th>count</th>\n",
       "      <td>19579</td>\n",
       "      <td>19579</td>\n",
       "      <td>19579</td>\n",
       "    </tr>\n",
       "    <tr>\n",
       "      <th>unique</th>\n",
       "      <td>19579</td>\n",
       "      <td>19579</td>\n",
       "      <td>3</td>\n",
       "    </tr>\n",
       "    <tr>\n",
       "      <th>top</th>\n",
       "      <td>id22950</td>\n",
       "      <td>There were sharp pains, and sudden dizziness, ...</td>\n",
       "      <td>EAP</td>\n",
       "    </tr>\n",
       "    <tr>\n",
       "      <th>freq</th>\n",
       "      <td>1</td>\n",
       "      <td>1</td>\n",
       "      <td>7900</td>\n",
       "    </tr>\n",
       "  </tbody>\n",
       "</table>\n",
       "</div>"
      ],
      "text/plain": [
       "             id                                               text author\n",
       "count     19579                                              19579  19579\n",
       "unique    19579                                              19579      3\n",
       "top     id22950  There were sharp pains, and sudden dizziness, ...    EAP\n",
       "freq          1                                                  1   7900"
      ]
     },
     "execution_count": 162,
     "metadata": {},
     "output_type": "execute_result"
    }
   ],
   "source": [
    "authored_contents.describe()"
   ]
  },
  {
   "cell_type": "code",
   "execution_count": 163,
   "metadata": {},
   "outputs": [
    {
     "name": "stdout",
     "output_type": "stream",
     "text": [
      "Total number of authored contents:  19579\n",
      "Total number of authored contents by EAP:  7900\n",
      "Total number of authored contents by MWS:  6044\n",
      "Total number of authored contents by HPL:  5635\n"
     ]
    }
   ],
   "source": [
    "training_records = len(authored_contents)\n",
    "\n",
    "author_eap, author_mws, author_hpl = authored_contents.author.value_counts()\n",
    "\n",
    "print(\"Total number of authored contents: \", training_records)\n",
    "print(\"Total number of authored contents by EAP: \", author_eap)\n",
    "print(\"Total number of authored contents by MWS: \", author_mws)\n",
    "print(\"Total number of authored contents by HPL: \", author_hpl)"
   ]
  },
  {
   "cell_type": "markdown",
   "metadata": {},
   "source": [
    "Below, we shall study the text length in the training dataset."
   ]
  },
  {
   "cell_type": "code",
   "execution_count": 164,
   "metadata": {},
   "outputs": [],
   "source": [
    "# grab text length of each contents\n",
    "\n",
    "authored_contents['text_length'] = authored_contents['text'].str.len()"
   ]
  },
  {
   "cell_type": "code",
   "execution_count": 165,
   "metadata": {},
   "outputs": [
    {
     "data": {
      "text/html": [
       "<div>\n",
       "<style scoped>\n",
       "    .dataframe tbody tr th:only-of-type {\n",
       "        vertical-align: middle;\n",
       "    }\n",
       "\n",
       "    .dataframe tbody tr th {\n",
       "        vertical-align: top;\n",
       "    }\n",
       "\n",
       "    .dataframe thead th {\n",
       "        text-align: right;\n",
       "    }\n",
       "</style>\n",
       "<table border=\"1\" class=\"dataframe\">\n",
       "  <thead>\n",
       "    <tr style=\"text-align: right;\">\n",
       "      <th></th>\n",
       "      <th>id</th>\n",
       "      <th>text</th>\n",
       "      <th>author</th>\n",
       "      <th>text_length</th>\n",
       "    </tr>\n",
       "  </thead>\n",
       "  <tbody>\n",
       "    <tr>\n",
       "      <th>0</th>\n",
       "      <td>id26305</td>\n",
       "      <td>This process, however, afforded me no means of...</td>\n",
       "      <td>EAP</td>\n",
       "      <td>231</td>\n",
       "    </tr>\n",
       "    <tr>\n",
       "      <th>1</th>\n",
       "      <td>id17569</td>\n",
       "      <td>It never once occurred to me that the fumbling...</td>\n",
       "      <td>HPL</td>\n",
       "      <td>71</td>\n",
       "    </tr>\n",
       "    <tr>\n",
       "      <th>2</th>\n",
       "      <td>id11008</td>\n",
       "      <td>In his left hand was a gold snuff box, from wh...</td>\n",
       "      <td>EAP</td>\n",
       "      <td>200</td>\n",
       "    </tr>\n",
       "    <tr>\n",
       "      <th>3</th>\n",
       "      <td>id27763</td>\n",
       "      <td>How lovely is spring As we looked from Windsor...</td>\n",
       "      <td>MWS</td>\n",
       "      <td>206</td>\n",
       "    </tr>\n",
       "    <tr>\n",
       "      <th>4</th>\n",
       "      <td>id12958</td>\n",
       "      <td>Finding nothing else, not even gold, the Super...</td>\n",
       "      <td>HPL</td>\n",
       "      <td>174</td>\n",
       "    </tr>\n",
       "  </tbody>\n",
       "</table>\n",
       "</div>"
      ],
      "text/plain": [
       "        id                                               text author  \\\n",
       "0  id26305  This process, however, afforded me no means of...    EAP   \n",
       "1  id17569  It never once occurred to me that the fumbling...    HPL   \n",
       "2  id11008  In his left hand was a gold snuff box, from wh...    EAP   \n",
       "3  id27763  How lovely is spring As we looked from Windsor...    MWS   \n",
       "4  id12958  Finding nothing else, not even gold, the Super...    HPL   \n",
       "\n",
       "   text_length  \n",
       "0          231  \n",
       "1           71  \n",
       "2          200  \n",
       "3          206  \n",
       "4          174  "
      ]
     },
     "execution_count": 165,
     "metadata": {},
     "output_type": "execute_result"
    }
   ],
   "source": [
    "authored_contents.head()"
   ]
  },
  {
   "cell_type": "code",
   "execution_count": 166,
   "metadata": {},
   "outputs": [
    {
     "data": {
      "image/png": "[encoded data removed]",
      "text/plain": [
       "<matplotlib.figure.Figure at 0x11beb1588>"
      ]
     },
     "metadata": {},
     "output_type": "display_data"
    }
   ],
   "source": [
    "authored_contents.hist()\n",
    "pyplot.show()"
   ]
  },
  {
   "cell_type": "code",
   "execution_count": 167,
   "metadata": {},
   "outputs": [
    {
     "data": {
      "text/plain": [
       "count    7900.000000\n",
       "mean      142.225949\n",
       "std       105.751334\n",
       "min        21.000000\n",
       "25%        68.000000\n",
       "50%       115.000000\n",
       "75%       186.000000\n",
       "max      1533.000000\n",
       "Name: text_length, dtype: float64"
      ]
     },
     "execution_count": 167,
     "metadata": {},
     "output_type": "execute_result"
    }
   ],
   "source": [
    "eap = authored_contents[authored_contents['author'] == 'EAP']['text_length']\n",
    "\n",
    "eap.describe()"
   ]
  },
  {
   "cell_type": "code",
   "execution_count": 168,
   "metadata": {},
   "outputs": [
    {
     "data": {
      "text/plain": [
       "count    5635.000000\n",
       "mean      155.843478\n",
       "std        82.020647\n",
       "min        21.000000\n",
       "25%        98.000000\n",
       "50%       142.000000\n",
       "75%       196.500000\n",
       "max       900.000000\n",
       "Name: text_length, dtype: float64"
      ]
     },
     "execution_count": 168,
     "metadata": {},
     "output_type": "execute_result"
    }
   ],
   "source": [
    "hpl = authored_contents[authored_contents['author'] == 'HPL']['text_length']\n",
    "\n",
    "hpl.describe()"
   ]
  },
  {
   "cell_type": "code",
   "execution_count": 169,
   "metadata": {},
   "outputs": [
    {
     "data": {
      "text/plain": [
       "count    6044.000000\n",
       "mean      151.659828\n",
       "std       126.305008\n",
       "min        21.000000\n",
       "25%        84.000000\n",
       "50%       130.000000\n",
       "75%       192.000000\n",
       "max      4663.000000\n",
       "Name: text_length, dtype: float64"
      ]
     },
     "execution_count": 169,
     "metadata": {},
     "output_type": "execute_result"
    }
   ],
   "source": [
    "mws = authored_contents[authored_contents['author'] == 'MWS']['text_length']\n",
    "\n",
    "mws.describe()"
   ]
  },
  {
   "cell_type": "markdown",
   "metadata": {},
   "source": [
    "Below, we shall study the text length in the testing dataset."
   ]
  },
  {
   "cell_type": "code",
   "execution_count": 170,
   "metadata": {},
   "outputs": [],
   "source": [
    "# examine the same in test data\n",
    "\n",
    "testing_records = len(unauthored_contents)\n",
    "\n",
    "unauthored_contents['text_length'] = unauthored_contents['text'].str.len()"
   ]
  },
  {
   "cell_type": "code",
   "execution_count": 171,
   "metadata": {},
   "outputs": [
    {
     "data": {
      "text/html": [
       "<div>\n",
       "<style scoped>\n",
       "    .dataframe tbody tr th:only-of-type {\n",
       "        vertical-align: middle;\n",
       "    }\n",
       "\n",
       "    .dataframe tbody tr th {\n",
       "        vertical-align: top;\n",
       "    }\n",
       "\n",
       "    .dataframe thead th {\n",
       "        text-align: right;\n",
       "    }\n",
       "</style>\n",
       "<table border=\"1\" class=\"dataframe\">\n",
       "  <thead>\n",
       "    <tr style=\"text-align: right;\">\n",
       "      <th></th>\n",
       "      <th>id</th>\n",
       "      <th>text</th>\n",
       "      <th>text_length</th>\n",
       "    </tr>\n",
       "  </thead>\n",
       "  <tbody>\n",
       "    <tr>\n",
       "      <th>0</th>\n",
       "      <td>id02310</td>\n",
       "      <td>Still, as I urged our leaving Ireland with suc...</td>\n",
       "      <td>110</td>\n",
       "    </tr>\n",
       "    <tr>\n",
       "      <th>1</th>\n",
       "      <td>id24541</td>\n",
       "      <td>If a fire wanted fanning, it could readily be ...</td>\n",
       "      <td>330</td>\n",
       "    </tr>\n",
       "    <tr>\n",
       "      <th>2</th>\n",
       "      <td>id00134</td>\n",
       "      <td>And when they had broken down the frail door t...</td>\n",
       "      <td>189</td>\n",
       "    </tr>\n",
       "    <tr>\n",
       "      <th>3</th>\n",
       "      <td>id27757</td>\n",
       "      <td>While I was thinking how I should possibly man...</td>\n",
       "      <td>223</td>\n",
       "    </tr>\n",
       "    <tr>\n",
       "      <th>4</th>\n",
       "      <td>id04081</td>\n",
       "      <td>I am not sure to what limit his knowledge may ...</td>\n",
       "      <td>53</td>\n",
       "    </tr>\n",
       "  </tbody>\n",
       "</table>\n",
       "</div>"
      ],
      "text/plain": [
       "        id                                               text  text_length\n",
       "0  id02310  Still, as I urged our leaving Ireland with suc...          110\n",
       "1  id24541  If a fire wanted fanning, it could readily be ...          330\n",
       "2  id00134  And when they had broken down the frail door t...          189\n",
       "3  id27757  While I was thinking how I should possibly man...          223\n",
       "4  id04081  I am not sure to what limit his knowledge may ...           53"
      ]
     },
     "execution_count": 171,
     "metadata": {},
     "output_type": "execute_result"
    }
   ],
   "source": [
    "unauthored_contents.head()"
   ]
  },
  {
   "cell_type": "code",
   "execution_count": 172,
   "metadata": {},
   "outputs": [
    {
     "data": {
      "image/png": "[encoded data removed]",
      "text/plain": [
       "<matplotlib.figure.Figure at 0x11b022080>"
      ]
     },
     "metadata": {},
     "output_type": "display_data"
    }
   ],
   "source": [
    "unauthored_contents.hist()\n",
    "pyplot.show()"
   ]
  },
  {
   "cell_type": "markdown",
   "metadata": {},
   "source": [
    "### Data Preprocessing"
   ]
  },
  {
   "cell_type": "code",
   "execution_count": 173,
   "metadata": {},
   "outputs": [],
   "source": [
    "# binarize author in the training dataset\n",
    "\n",
    "authored_contents['numerical_author'] = authored_contents.author.map({ 'EAP': 0, 'HPL': 1, 'MWS': 2 })"
   ]
  },
  {
   "cell_type": "code",
   "execution_count": 174,
   "metadata": {},
   "outputs": [
    {
     "data": {
      "text/html": [
       "<div>\n",
       "<style scoped>\n",
       "    .dataframe tbody tr th:only-of-type {\n",
       "        vertical-align: middle;\n",
       "    }\n",
       "\n",
       "    .dataframe tbody tr th {\n",
       "        vertical-align: top;\n",
       "    }\n",
       "\n",
       "    .dataframe thead th {\n",
       "        text-align: right;\n",
       "    }\n",
       "</style>\n",
       "<table border=\"1\" class=\"dataframe\">\n",
       "  <thead>\n",
       "    <tr style=\"text-align: right;\">\n",
       "      <th></th>\n",
       "      <th>id</th>\n",
       "      <th>text</th>\n",
       "      <th>author</th>\n",
       "      <th>text_length</th>\n",
       "      <th>numerical_author</th>\n",
       "    </tr>\n",
       "  </thead>\n",
       "  <tbody>\n",
       "    <tr>\n",
       "      <th>0</th>\n",
       "      <td>id26305</td>\n",
       "      <td>This process, however, afforded me no means of...</td>\n",
       "      <td>EAP</td>\n",
       "      <td>231</td>\n",
       "      <td>0</td>\n",
       "    </tr>\n",
       "    <tr>\n",
       "      <th>1</th>\n",
       "      <td>id17569</td>\n",
       "      <td>It never once occurred to me that the fumbling...</td>\n",
       "      <td>HPL</td>\n",
       "      <td>71</td>\n",
       "      <td>1</td>\n",
       "    </tr>\n",
       "    <tr>\n",
       "      <th>2</th>\n",
       "      <td>id11008</td>\n",
       "      <td>In his left hand was a gold snuff box, from wh...</td>\n",
       "      <td>EAP</td>\n",
       "      <td>200</td>\n",
       "      <td>0</td>\n",
       "    </tr>\n",
       "    <tr>\n",
       "      <th>3</th>\n",
       "      <td>id27763</td>\n",
       "      <td>How lovely is spring As we looked from Windsor...</td>\n",
       "      <td>MWS</td>\n",
       "      <td>206</td>\n",
       "      <td>2</td>\n",
       "    </tr>\n",
       "    <tr>\n",
       "      <th>4</th>\n",
       "      <td>id12958</td>\n",
       "      <td>Finding nothing else, not even gold, the Super...</td>\n",
       "      <td>HPL</td>\n",
       "      <td>174</td>\n",
       "      <td>1</td>\n",
       "    </tr>\n",
       "  </tbody>\n",
       "</table>\n",
       "</div>"
      ],
      "text/plain": [
       "        id                                               text author  \\\n",
       "0  id26305  This process, however, afforded me no means of...    EAP   \n",
       "1  id17569  It never once occurred to me that the fumbling...    HPL   \n",
       "2  id11008  In his left hand was a gold snuff box, from wh...    EAP   \n",
       "3  id27763  How lovely is spring As we looked from Windsor...    MWS   \n",
       "4  id12958  Finding nothing else, not even gold, the Super...    HPL   \n",
       "\n",
       "   text_length  numerical_author  \n",
       "0          231                 0  \n",
       "1           71                 1  \n",
       "2          200                 0  \n",
       "3          206                 2  \n",
       "4          174                 1  "
      ]
     },
     "execution_count": 174,
     "metadata": {},
     "output_type": "execute_result"
    }
   ],
   "source": [
    "authored_contents.head()"
   ]
  },
  {
   "cell_type": "code",
   "execution_count": 175,
   "metadata": {},
   "outputs": [],
   "source": [
    "# Define labels and features set\n",
    "\n",
    "X = authored_contents['text']\n",
    "Y = authored_contents['numerical_author']"
   ]
  },
  {
   "cell_type": "code",
   "execution_count": 176,
   "metadata": {},
   "outputs": [],
   "source": [
    "# author_counts = authored_contents.groupby('author').size()\n",
    "\n",
    "# print(author_counts)"
   ]
  },
  {
   "cell_type": "markdown",
   "metadata": {},
   "source": [
    "### Generate training and testing sets from the dataset"
   ]
  },
  {
   "cell_type": "code",
   "execution_count": 177,
   "metadata": {},
   "outputs": [],
   "source": [
    "from sklearn.cross_validation import train_test_split\n",
    "\n",
    "X_train, X_test, Y_train, Y_test = train_test_split(X,\n",
    "                                                    Y,\n",
    "                                                    test_size = 0.2,\n",
    "                                                    random_state = 42,\n",
    "                                                    stratify = Y)"
   ]
  },
  {
   "cell_type": "code",
   "execution_count": 178,
   "metadata": {},
   "outputs": [
    {
     "name": "stdout",
     "output_type": "stream",
     "text": [
      "Training set has 15663 features.\n",
      "Testing set has 3916 features.\n",
      "Training set has 15663 labels.\n",
      "Testing set has 3916 labels.\n"
     ]
    }
   ],
   "source": [
    "# Show the results of the split\n",
    "\n",
    "# Features\n",
    "print(\"Training set has \" + str(X_train.shape[0]) + \" features.\")\n",
    "print(\"Testing set has \" + str(X_test.shape[0]) + \" features.\")\n",
    "\n",
    "# Labels\n",
    "print(\"Training set has \" + str(Y_train.shape[0]) + \" labels.\")\n",
    "print(\"Testing set has \" + str(Y_test.shape[0]) + \" labels.\")"
   ]
  },
  {
   "cell_type": "code",
   "execution_count": 179,
   "metadata": {},
   "outputs": [
    {
     "name": "stdout",
     "output_type": "stream",
     "text": [
      "0    6320\n",
      "2    4835\n",
      "1    4508\n",
      "Name: numerical_author, dtype: int64\n",
      "0    1580\n",
      "2    1209\n",
      "1    1127\n",
      "Name: numerical_author, dtype: int64\n"
     ]
    }
   ],
   "source": [
    "print(Y_train.value_counts())\n",
    "\n",
    "print(Y_test.value_counts())"
   ]
  },
  {
   "cell_type": "code",
   "execution_count": 180,
   "metadata": {},
   "outputs": [],
   "source": [
    "# operate the data with CountVectorizer \n",
    "\n",
    "from sklearn.feature_extraction.text import CountVectorizer\n",
    "\n",
    "vectorizer = CountVectorizer()\n",
    "vectorizer.fit(X_train)\n",
    "\n",
    "training_vectorizer = vectorizer.transform(X_train)"
   ]
  },
  {
   "cell_type": "code",
   "execution_count": 181,
   "metadata": {},
   "outputs": [
    {
     "name": "stdout",
     "output_type": "stream",
     "text": [
      "22922\n"
     ]
    }
   ],
   "source": [
    "print(len(vectorizer.get_feature_names()))"
   ]
  },
  {
   "cell_type": "code",
   "execution_count": 182,
   "metadata": {},
   "outputs": [],
   "source": [
    "# print(X_train)"
   ]
  },
  {
   "cell_type": "code",
   "execution_count": 183,
   "metadata": {},
   "outputs": [],
   "source": [
    "# run vectorizer for X_test\n",
    "\n",
    "testing_vectorizer = vectorizer.transform(X_test)"
   ]
  },
  {
   "cell_type": "code",
   "execution_count": 184,
   "metadata": {},
   "outputs": [
    {
     "data": {
      "text/plain": [
       "<15663x22922 sparse matrix of type '<class 'numpy.int64'>'\n",
       "\twith 342979 stored elements in Compressed Sparse Row format>"
      ]
     },
     "execution_count": 184,
     "metadata": {},
     "output_type": "execute_result"
    }
   ],
   "source": [
    "training_vectorizer"
   ]
  },
  {
   "cell_type": "code",
   "execution_count": 185,
   "metadata": {},
   "outputs": [
    {
     "data": {
      "text/plain": [
       "<3916x22922 sparse matrix of type '<class 'numpy.int64'>'\n",
       "\twith 84298 stored elements in Compressed Sparse Row format>"
      ]
     },
     "execution_count": 185,
     "metadata": {},
     "output_type": "execute_result"
    }
   ],
   "source": [
    "testing_vectorizer"
   ]
  },
  {
   "cell_type": "markdown",
   "metadata": {},
   "source": [
    "As per the above transformation, training_vectorizer is our feature set."
   ]
  },
  {
   "cell_type": "markdown",
   "metadata": {},
   "source": [
    "### Parameter tuning"
   ]
  },
  {
   "cell_type": "code",
   "execution_count": 186,
   "metadata": {},
   "outputs": [
    {
     "data": {
      "text/plain": [
       "{'alpha': 0.5}"
      ]
     },
     "execution_count": 186,
     "metadata": {},
     "output_type": "execute_result"
    }
   ],
   "source": [
    "from sklearn.grid_search import GridSearchCV\n",
    "from sklearn.metrics import fbeta_score, make_scorer\n",
    "\n",
    "parameters = { 'alpha': [0.01, 0.1, 0.5, 1.0, 5.0, 10.0, 50.0, 100.0] }\n",
    "\n",
    "scorer = make_scorer(fbeta_score, beta=0.5)\n",
    "\n",
    "grid_obj = GridSearchCV(mnb, parameters)\n",
    "\n",
    "grid_fit = grid_obj.fit(training_vectorizer, Y_train)\n",
    "\n",
    "# Get the estimator\n",
    "best_clf = grid_fit.best_estimator_\n",
    "\n",
    "grid_fit.best_params_"
   ]
  },
  {
   "cell_type": "markdown",
   "metadata": {},
   "source": [
    "### Run on model"
   ]
  },
  {
   "cell_type": "code",
   "execution_count": 187,
   "metadata": {},
   "outputs": [],
   "source": [
    "from sklearn.naive_bayes import MultinomialNB\n",
    "\n",
    "mnb = MultinomialNB(alpha = 0.1)"
   ]
  },
  {
   "cell_type": "code",
   "execution_count": 188,
   "metadata": {},
   "outputs": [
    {
     "data": {
      "text/plain": [
       "MultinomialNB(alpha=0.1, class_prior=None, fit_prior=True)"
      ]
     },
     "execution_count": 188,
     "metadata": {},
     "output_type": "execute_result"
    }
   ],
   "source": [
    "mnb.fit(training_vectorizer, Y_train)"
   ]
  },
  {
   "cell_type": "code",
   "execution_count": 189,
   "metadata": {},
   "outputs": [],
   "source": [
    "Y_train_prediction = mnb.predict(training_vectorizer)"
   ]
  },
  {
   "cell_type": "code",
   "execution_count": 190,
   "metadata": {},
   "outputs": [],
   "source": [
    "Y_test_prediction = mnb.predict(testing_vectorizer)"
   ]
  },
  {
   "cell_type": "code",
   "execution_count": 191,
   "metadata": {},
   "outputs": [
    {
     "data": {
      "text/plain": [
       "0.8485699693564862"
      ]
     },
     "execution_count": 191,
     "metadata": {},
     "output_type": "execute_result"
    }
   ],
   "source": [
    "# calculate score for predicted data against testing data\n",
    "from sklearn import metrics\n",
    "\n",
    "# compare predicted resultset with the test set\n",
    "metrics.accuracy_score(Y_test, Y_test_prediction)"
   ]
  },
  {
   "cell_type": "code",
   "execution_count": 192,
   "metadata": {},
   "outputs": [
    {
     "data": {
      "text/plain": [
       "0.9360914256528123"
      ]
     },
     "execution_count": 192,
     "metadata": {},
     "output_type": "execute_result"
    }
   ],
   "source": [
    "# calculate score for predicted data against training data\n",
    "\n",
    "metrics.accuracy_score(Y_train, Y_train_prediction)"
   ]
  },
  {
   "cell_type": "code",
   "execution_count": 193,
   "metadata": {},
   "outputs": [
    {
     "data": {
      "text/plain": [
       "array([[1323,  101,  156],\n",
       "       [  94,  952,   81],\n",
       "       [ 102,   59, 1048]])"
      ]
     },
     "execution_count": 193,
     "metadata": {},
     "output_type": "execute_result"
    }
   ],
   "source": [
    "# Calculate confusion matrix\n",
    "\n",
    "metrics.confusion_matrix(Y_test, Y_test_prediction)"
   ]
  },
  {
   "cell_type": "code",
   "execution_count": 194,
   "metadata": {},
   "outputs": [
    {
     "data": {
      "text/plain": [
       "array([[9.99805849e-01, 1.94151020e-04, 8.35058616e-13],\n",
       "       [8.31143651e-01, 8.13243855e-02, 8.75319638e-02],\n",
       "       [1.35134893e-02, 9.85021041e-01, 1.46546934e-03],\n",
       "       [9.99910147e-01, 8.96154736e-05, 2.37228953e-07],\n",
       "       [5.28653577e-01, 2.89451707e-03, 4.68451906e-01],\n",
       "       [1.74354676e-12, 1.72514783e-11, 1.00000000e+00],\n",
       "       [6.18080281e-09, 9.99228992e-01, 7.71001815e-04],\n",
       "       [2.10788292e-10, 1.63524482e-20, 1.00000000e+00],\n",
       "       [6.51545025e-07, 9.99977565e-01, 2.17839224e-05],\n",
       "       [6.26344561e-03, 9.91956739e-01, 1.77981515e-03]])"
      ]
     },
     "execution_count": 194,
     "metadata": {},
     "output_type": "execute_result"
    }
   ],
   "source": [
    "# calculate predicted probabilities for X_test_dtm\n",
    "y_pred_prob = mnb.predict_proba(testing_vectorizer)\n",
    "y_pred_prob[:10]"
   ]
  },
  {
   "cell_type": "markdown",
   "metadata": {},
   "source": [
    "### Running the prediction over `test.csv`"
   ]
  },
  {
   "cell_type": "code",
   "execution_count": 195,
   "metadata": {},
   "outputs": [],
   "source": [
    "# vectorise the unauthored_contents\n",
    "\n",
    "unpredicted_texts = unauthored_contents['text']\n",
    "\n",
    "unpredicted_texts_vectorizer = vectorizer.transform(unpredicted_texts)"
   ]
  },
  {
   "cell_type": "code",
   "execution_count": 226,
   "metadata": {
    "scrolled": true
   },
   "outputs": [
    {
     "data": {
      "text/plain": [
       "<8392x22922 sparse matrix of type '<class 'numpy.int64'>'\n",
       "\twith 178310 stored elements in Compressed Sparse Row format>"
      ]
     },
     "execution_count": 226,
     "metadata": {},
     "output_type": "execute_result"
    }
   ],
   "source": [
    "unpredicted_texts_vectorizer"
   ]
  },
  {
   "cell_type": "code",
   "execution_count": 199,
   "metadata": {},
   "outputs": [],
   "source": [
    "unpredicted_texts_prediction = mnb.predict(unpredicted_texts_vectorizer)"
   ]
  },
  {
   "cell_type": "code",
   "execution_count": 204,
   "metadata": {},
   "outputs": [
    {
     "data": {
      "text/plain": [
       "array([[1.59412584e-05, 1.18876204e-05, 9.99972171e-01],\n",
       "       [9.99999853e-01, 1.46702240e-07, 1.65985398e-11],\n",
       "       [2.43952329e-03, 9.97560477e-01, 6.39757804e-11],\n",
       "       [6.65218884e-01, 3.34781116e-01, 1.93156626e-11],\n",
       "       [9.70243491e-01, 6.40666083e-03, 2.33498483e-02],\n",
       "       [9.97552029e-01, 2.44784087e-03, 1.30587636e-07],\n",
       "       [9.77792835e-01, 1.69316652e-02, 5.27549990e-03],\n",
       "       [2.82564004e-04, 2.20083476e-03, 9.97516601e-01],\n",
       "       [9.99993200e-01, 6.80023730e-06, 2.81439077e-13],\n",
       "       [9.45569847e-01, 1.03455169e-02, 4.40846359e-02]])"
      ]
     },
     "execution_count": 204,
     "metadata": {},
     "output_type": "execute_result"
    }
   ],
   "source": [
    "# calculate predicted probabilities for X_test_dtm\n",
    "predicted_prob = mnb.predict_proba(unpredicted_texts_vectorizer)\n",
    "predicted_prob[:10]"
   ]
  },
  {
   "cell_type": "code",
   "execution_count": 215,
   "metadata": {},
   "outputs": [
    {
     "data": {
      "text/plain": [
       "array([2, 0, 1, ..., 0, 2, 1])"
      ]
     },
     "execution_count": 215,
     "metadata": {},
     "output_type": "execute_result"
    }
   ],
   "source": [
    "unpredicted_texts_prediction"
   ]
  },
  {
   "cell_type": "code",
   "execution_count": 207,
   "metadata": {},
   "outputs": [
    {
     "data": {
      "text/plain": [
       "8392"
      ]
     },
     "execution_count": 207,
     "metadata": {},
     "output_type": "execute_result"
    }
   ],
   "source": [
    "len(unauthored_contents)"
   ]
  },
  {
   "cell_type": "code",
   "execution_count": 218,
   "metadata": {},
   "outputs": [],
   "source": [
    "numerical_authors = pandas.DataFrame(unpredicted_texts_prediction, columns=['num_author'])\n",
    "\n",
    "predicted_unauthored_contents = pandas.concat([unauthored_contents, numerical_authors], axis=1)"
   ]
  },
  {
   "cell_type": "code",
   "execution_count": 223,
   "metadata": {},
   "outputs": [],
   "source": [
    "predicted_unauthored_contents['author'] = predicted_unauthored_contents.num_author.map({ 0: 'EAP', 1: 'HPL', 2: 'MWS' })"
   ]
  },
  {
   "cell_type": "code",
   "execution_count": 224,
   "metadata": {},
   "outputs": [
    {
     "data": {
      "text/html": [
       "<div>\n",
       "<style scoped>\n",
       "    .dataframe tbody tr th:only-of-type {\n",
       "        vertical-align: middle;\n",
       "    }\n",
       "\n",
       "    .dataframe tbody tr th {\n",
       "        vertical-align: top;\n",
       "    }\n",
       "\n",
       "    .dataframe thead th {\n",
       "        text-align: right;\n",
       "    }\n",
       "</style>\n",
       "<table border=\"1\" class=\"dataframe\">\n",
       "  <thead>\n",
       "    <tr style=\"text-align: right;\">\n",
       "      <th></th>\n",
       "      <th>id</th>\n",
       "      <th>text</th>\n",
       "      <th>text_length</th>\n",
       "      <th>num_author</th>\n",
       "      <th>author</th>\n",
       "    </tr>\n",
       "  </thead>\n",
       "  <tbody>\n",
       "    <tr>\n",
       "      <th>0</th>\n",
       "      <td>id02310</td>\n",
       "      <td>Still, as I urged our leaving Ireland with suc...</td>\n",
       "      <td>110</td>\n",
       "      <td>2</td>\n",
       "      <td>MWS</td>\n",
       "    </tr>\n",
       "    <tr>\n",
       "      <th>1</th>\n",
       "      <td>id24541</td>\n",
       "      <td>If a fire wanted fanning, it could readily be ...</td>\n",
       "      <td>330</td>\n",
       "      <td>0</td>\n",
       "      <td>EAP</td>\n",
       "    </tr>\n",
       "    <tr>\n",
       "      <th>2</th>\n",
       "      <td>id00134</td>\n",
       "      <td>And when they had broken down the frail door t...</td>\n",
       "      <td>189</td>\n",
       "      <td>1</td>\n",
       "      <td>HPL</td>\n",
       "    </tr>\n",
       "    <tr>\n",
       "      <th>3</th>\n",
       "      <td>id27757</td>\n",
       "      <td>While I was thinking how I should possibly man...</td>\n",
       "      <td>223</td>\n",
       "      <td>0</td>\n",
       "      <td>EAP</td>\n",
       "    </tr>\n",
       "    <tr>\n",
       "      <th>4</th>\n",
       "      <td>id04081</td>\n",
       "      <td>I am not sure to what limit his knowledge may ...</td>\n",
       "      <td>53</td>\n",
       "      <td>0</td>\n",
       "      <td>EAP</td>\n",
       "    </tr>\n",
       "    <tr>\n",
       "      <th>5</th>\n",
       "      <td>id27337</td>\n",
       "      <td>\"The thick and peculiar mist, or smoke, which ...</td>\n",
       "      <td>202</td>\n",
       "      <td>0</td>\n",
       "      <td>EAP</td>\n",
       "    </tr>\n",
       "    <tr>\n",
       "      <th>6</th>\n",
       "      <td>id24265</td>\n",
       "      <td>That which is not matter, is not at all unless...</td>\n",
       "      <td>68</td>\n",
       "      <td>0</td>\n",
       "      <td>EAP</td>\n",
       "    </tr>\n",
       "    <tr>\n",
       "      <th>7</th>\n",
       "      <td>id25917</td>\n",
       "      <td>I sought for repose although I did not hope fo...</td>\n",
       "      <td>155</td>\n",
       "      <td>2</td>\n",
       "      <td>MWS</td>\n",
       "    </tr>\n",
       "    <tr>\n",
       "      <th>8</th>\n",
       "      <td>id04951</td>\n",
       "      <td>Upon the fourth day of the assassination, a pa...</td>\n",
       "      <td>172</td>\n",
       "      <td>0</td>\n",
       "      <td>EAP</td>\n",
       "    </tr>\n",
       "    <tr>\n",
       "      <th>9</th>\n",
       "      <td>id14549</td>\n",
       "      <td>\"The tone metaphysical is also a good one.</td>\n",
       "      <td>42</td>\n",
       "      <td>0</td>\n",
       "      <td>EAP</td>\n",
       "    </tr>\n",
       "    <tr>\n",
       "      <th>10</th>\n",
       "      <td>id22505</td>\n",
       "      <td>These, the offspring of a later period, stood ...</td>\n",
       "      <td>257</td>\n",
       "      <td>2</td>\n",
       "      <td>MWS</td>\n",
       "    </tr>\n",
       "    <tr>\n",
       "      <th>11</th>\n",
       "      <td>id24002</td>\n",
       "      <td>What kept him from going with her and Brown Je...</td>\n",
       "      <td>262</td>\n",
       "      <td>1</td>\n",
       "      <td>HPL</td>\n",
       "    </tr>\n",
       "    <tr>\n",
       "      <th>12</th>\n",
       "      <td>id18982</td>\n",
       "      <td>Persuading the widow that my connexion with he...</td>\n",
       "      <td>191</td>\n",
       "      <td>1</td>\n",
       "      <td>HPL</td>\n",
       "    </tr>\n",
       "    <tr>\n",
       "      <th>13</th>\n",
       "      <td>id15181</td>\n",
       "      <td>When I arose trembling, I know not how much la...</td>\n",
       "      <td>149</td>\n",
       "      <td>1</td>\n",
       "      <td>HPL</td>\n",
       "    </tr>\n",
       "    <tr>\n",
       "      <th>14</th>\n",
       "      <td>id21888</td>\n",
       "      <td>And by the shores of the river Zaire there is ...</td>\n",
       "      <td>72</td>\n",
       "      <td>0</td>\n",
       "      <td>EAP</td>\n",
       "    </tr>\n",
       "    <tr>\n",
       "      <th>15</th>\n",
       "      <td>id12035</td>\n",
       "      <td>Idris heard of her mother's return with pleasure.</td>\n",
       "      <td>49</td>\n",
       "      <td>2</td>\n",
       "      <td>MWS</td>\n",
       "    </tr>\n",
       "    <tr>\n",
       "      <th>16</th>\n",
       "      <td>id17991</td>\n",
       "      <td>I say this proudly, but with tears in my eyes ...</td>\n",
       "      <td>100</td>\n",
       "      <td>2</td>\n",
       "      <td>MWS</td>\n",
       "    </tr>\n",
       "    <tr>\n",
       "      <th>17</th>\n",
       "      <td>id10707</td>\n",
       "      <td>But let us glance at the treatise Ah \"Ability ...</td>\n",
       "      <td>168</td>\n",
       "      <td>0</td>\n",
       "      <td>EAP</td>\n",
       "    </tr>\n",
       "    <tr>\n",
       "      <th>18</th>\n",
       "      <td>id07101</td>\n",
       "      <td>\"What a place is this that you inhabit, my son...</td>\n",
       "      <td>134</td>\n",
       "      <td>2</td>\n",
       "      <td>MWS</td>\n",
       "    </tr>\n",
       "    <tr>\n",
       "      <th>19</th>\n",
       "      <td>id00345</td>\n",
       "      <td>At his nod I took one of the latter and seated...</td>\n",
       "      <td>129</td>\n",
       "      <td>0</td>\n",
       "      <td>EAP</td>\n",
       "    </tr>\n",
       "    <tr>\n",
       "      <th>20</th>\n",
       "      <td>id05912</td>\n",
       "      <td>No one doubted now that the mystery of this mu...</td>\n",
       "      <td>89</td>\n",
       "      <td>0</td>\n",
       "      <td>EAP</td>\n",
       "    </tr>\n",
       "    <tr>\n",
       "      <th>21</th>\n",
       "      <td>id13443</td>\n",
       "      <td>But although, in one or two instances, arrests...</td>\n",
       "      <td>190</td>\n",
       "      <td>0</td>\n",
       "      <td>EAP</td>\n",
       "    </tr>\n",
       "    <tr>\n",
       "      <th>22</th>\n",
       "      <td>id09248</td>\n",
       "      <td>Festivity, and even libertinism, became the or...</td>\n",
       "      <td>61</td>\n",
       "      <td>2</td>\n",
       "      <td>MWS</td>\n",
       "    </tr>\n",
       "    <tr>\n",
       "      <th>23</th>\n",
       "      <td>id17542</td>\n",
       "      <td>For I am Iranon, who was a Prince in Aira.\"</td>\n",
       "      <td>43</td>\n",
       "      <td>1</td>\n",
       "      <td>HPL</td>\n",
       "    </tr>\n",
       "    <tr>\n",
       "      <th>24</th>\n",
       "      <td>id06995</td>\n",
       "      <td>\"Gaze not on the star, dear, generous friend,\"...</td>\n",
       "      <td>173</td>\n",
       "      <td>2</td>\n",
       "      <td>MWS</td>\n",
       "    </tr>\n",
       "    <tr>\n",
       "      <th>25</th>\n",
       "      <td>id25159</td>\n",
       "      <td>I am serious in asserting that my breath was e...</td>\n",
       "      <td>59</td>\n",
       "      <td>2</td>\n",
       "      <td>MWS</td>\n",
       "    </tr>\n",
       "    <tr>\n",
       "      <th>26</th>\n",
       "      <td>id25729</td>\n",
       "      <td>The thing will haunt me, for who can say the e...</td>\n",
       "      <td>133</td>\n",
       "      <td>1</td>\n",
       "      <td>HPL</td>\n",
       "    </tr>\n",
       "    <tr>\n",
       "      <th>27</th>\n",
       "      <td>id26949</td>\n",
       "      <td>Before each of the party lay a portion of a sk...</td>\n",
       "      <td>84</td>\n",
       "      <td>0</td>\n",
       "      <td>EAP</td>\n",
       "    </tr>\n",
       "    <tr>\n",
       "      <th>28</th>\n",
       "      <td>id27191</td>\n",
       "      <td>If she had been bred in that sphere of life to...</td>\n",
       "      <td>226</td>\n",
       "      <td>2</td>\n",
       "      <td>MWS</td>\n",
       "    </tr>\n",
       "    <tr>\n",
       "      <th>29</th>\n",
       "      <td>id07668</td>\n",
       "      <td>Or, if this mode of speech offend you, let me ...</td>\n",
       "      <td>316</td>\n",
       "      <td>2</td>\n",
       "      <td>MWS</td>\n",
       "    </tr>\n",
       "    <tr>\n",
       "      <th>...</th>\n",
       "      <td>...</td>\n",
       "      <td>...</td>\n",
       "      <td>...</td>\n",
       "      <td>...</td>\n",
       "      <td>...</td>\n",
       "    </tr>\n",
       "    <tr>\n",
       "      <th>8362</th>\n",
       "      <td>id22510</td>\n",
       "      <td>Then again he distracted my thoughts from my s...</td>\n",
       "      <td>108</td>\n",
       "      <td>2</td>\n",
       "      <td>MWS</td>\n",
       "    </tr>\n",
       "    <tr>\n",
       "      <th>8363</th>\n",
       "      <td>id19204</td>\n",
       "      <td>Upon the whole, whether happily or unhappily, ...</td>\n",
       "      <td>99</td>\n",
       "      <td>0</td>\n",
       "      <td>EAP</td>\n",
       "    </tr>\n",
       "    <tr>\n",
       "      <th>8364</th>\n",
       "      <td>id05758</td>\n",
       "      <td>He was not allowed to finish this speech in tr...</td>\n",
       "      <td>57</td>\n",
       "      <td>2</td>\n",
       "      <td>MWS</td>\n",
       "    </tr>\n",
       "    <tr>\n",
       "      <th>8365</th>\n",
       "      <td>id27063</td>\n",
       "      <td>His looks were wild with terror, and he spoke ...</td>\n",
       "      <td>94</td>\n",
       "      <td>0</td>\n",
       "      <td>EAP</td>\n",
       "    </tr>\n",
       "    <tr>\n",
       "      <th>8366</th>\n",
       "      <td>id11773</td>\n",
       "      <td>By the quantity of provision which I had consu...</td>\n",
       "      <td>246</td>\n",
       "      <td>2</td>\n",
       "      <td>MWS</td>\n",
       "    </tr>\n",
       "    <tr>\n",
       "      <th>8367</th>\n",
       "      <td>id11562</td>\n",
       "      <td>I hurled after the scoundrel these vehement wo...</td>\n",
       "      <td>200</td>\n",
       "      <td>2</td>\n",
       "      <td>MWS</td>\n",
       "    </tr>\n",
       "    <tr>\n",
       "      <th>8368</th>\n",
       "      <td>id16208</td>\n",
       "      <td>Notwithstanding the hazardous object of our jo...</td>\n",
       "      <td>164</td>\n",
       "      <td>2</td>\n",
       "      <td>MWS</td>\n",
       "    </tr>\n",
       "    <tr>\n",
       "      <th>8369</th>\n",
       "      <td>id04036</td>\n",
       "      <td>I felt the greatest eagerness to hear the prom...</td>\n",
       "      <td>162</td>\n",
       "      <td>2</td>\n",
       "      <td>MWS</td>\n",
       "    </tr>\n",
       "    <tr>\n",
       "      <th>8370</th>\n",
       "      <td>id26159</td>\n",
       "      <td>But in the expression of the countenance, whic...</td>\n",
       "      <td>232</td>\n",
       "      <td>0</td>\n",
       "      <td>EAP</td>\n",
       "    </tr>\n",
       "    <tr>\n",
       "      <th>8371</th>\n",
       "      <td>id26777</td>\n",
       "      <td>Its decorations were rich, yet tattered and an...</td>\n",
       "      <td>52</td>\n",
       "      <td>2</td>\n",
       "      <td>MWS</td>\n",
       "    </tr>\n",
       "    <tr>\n",
       "      <th>8372</th>\n",
       "      <td>id08501</td>\n",
       "      <td>He directed my attention to some object agains...</td>\n",
       "      <td>57</td>\n",
       "      <td>0</td>\n",
       "      <td>EAP</td>\n",
       "    </tr>\n",
       "    <tr>\n",
       "      <th>8373</th>\n",
       "      <td>id11216</td>\n",
       "      <td>Hey? Haow'd ye like to hear the haowlin' night...</td>\n",
       "      <td>145</td>\n",
       "      <td>1</td>\n",
       "      <td>HPL</td>\n",
       "    </tr>\n",
       "    <tr>\n",
       "      <th>8374</th>\n",
       "      <td>id03410</td>\n",
       "      <td>She was buried not in a vault, but in an ordin...</td>\n",
       "      <td>87</td>\n",
       "      <td>0</td>\n",
       "      <td>EAP</td>\n",
       "    </tr>\n",
       "    <tr>\n",
       "      <th>8375</th>\n",
       "      <td>id04537</td>\n",
       "      <td>In company with this sprightly and clever Gree...</td>\n",
       "      <td>100</td>\n",
       "      <td>2</td>\n",
       "      <td>MWS</td>\n",
       "    </tr>\n",
       "    <tr>\n",
       "      <th>8376</th>\n",
       "      <td>id26628</td>\n",
       "      <td>In this unnerved in this pitiable condition I ...</td>\n",
       "      <td>188</td>\n",
       "      <td>0</td>\n",
       "      <td>EAP</td>\n",
       "    </tr>\n",
       "    <tr>\n",
       "      <th>8377</th>\n",
       "      <td>id01586</td>\n",
       "      <td>He was a scoundrel, and I don't blame you for ...</td>\n",
       "      <td>205</td>\n",
       "      <td>1</td>\n",
       "      <td>HPL</td>\n",
       "    </tr>\n",
       "    <tr>\n",
       "      <th>8378</th>\n",
       "      <td>id13421</td>\n",
       "      <td>But why should I dwell upon the incidents that...</td>\n",
       "      <td>85</td>\n",
       "      <td>2</td>\n",
       "      <td>MWS</td>\n",
       "    </tr>\n",
       "    <tr>\n",
       "      <th>8379</th>\n",
       "      <td>id26084</td>\n",
       "      <td>In the streets were spears of long grass, and ...</td>\n",
       "      <td>116</td>\n",
       "      <td>1</td>\n",
       "      <td>HPL</td>\n",
       "    </tr>\n",
       "    <tr>\n",
       "      <th>8380</th>\n",
       "      <td>id05375</td>\n",
       "      <td>When I first sought it, it was the love of vir...</td>\n",
       "      <td>162</td>\n",
       "      <td>2</td>\n",
       "      <td>MWS</td>\n",
       "    </tr>\n",
       "    <tr>\n",
       "      <th>8381</th>\n",
       "      <td>id23212</td>\n",
       "      <td>But it is in matters beyond the limits of mere...</td>\n",
       "      <td>93</td>\n",
       "      <td>0</td>\n",
       "      <td>EAP</td>\n",
       "    </tr>\n",
       "    <tr>\n",
       "      <th>8382</th>\n",
       "      <td>id15980</td>\n",
       "      <td>\"I may say an excellently well constructed house.</td>\n",
       "      <td>49</td>\n",
       "      <td>0</td>\n",
       "      <td>EAP</td>\n",
       "    </tr>\n",
       "    <tr>\n",
       "      <th>8383</th>\n",
       "      <td>id11719</td>\n",
       "      <td>Across a covered bridge one sees a small villa...</td>\n",
       "      <td>250</td>\n",
       "      <td>1</td>\n",
       "      <td>HPL</td>\n",
       "    </tr>\n",
       "    <tr>\n",
       "      <th>8384</th>\n",
       "      <td>id13109</td>\n",
       "      <td>You cannot take up a common newspaper in which...</td>\n",
       "      <td>107</td>\n",
       "      <td>0</td>\n",
       "      <td>EAP</td>\n",
       "    </tr>\n",
       "    <tr>\n",
       "      <th>8385</th>\n",
       "      <td>id07156</td>\n",
       "      <td>Consoling myself with this reflection, I was m...</td>\n",
       "      <td>419</td>\n",
       "      <td>0</td>\n",
       "      <td>EAP</td>\n",
       "    </tr>\n",
       "    <tr>\n",
       "      <th>8386</th>\n",
       "      <td>id04893</td>\n",
       "      <td>Yet we laughed and were merry in our proper wa...</td>\n",
       "      <td>183</td>\n",
       "      <td>1</td>\n",
       "      <td>HPL</td>\n",
       "    </tr>\n",
       "    <tr>\n",
       "      <th>8387</th>\n",
       "      <td>id11749</td>\n",
       "      <td>All this is now the fitter for my purpose.</td>\n",
       "      <td>42</td>\n",
       "      <td>0</td>\n",
       "      <td>EAP</td>\n",
       "    </tr>\n",
       "    <tr>\n",
       "      <th>8388</th>\n",
       "      <td>id10526</td>\n",
       "      <td>I fixed myself on a wide solitude.</td>\n",
       "      <td>34</td>\n",
       "      <td>2</td>\n",
       "      <td>MWS</td>\n",
       "    </tr>\n",
       "    <tr>\n",
       "      <th>8389</th>\n",
       "      <td>id13477</td>\n",
       "      <td>It is easily understood that what might improv...</td>\n",
       "      <td>150</td>\n",
       "      <td>0</td>\n",
       "      <td>EAP</td>\n",
       "    </tr>\n",
       "    <tr>\n",
       "      <th>8390</th>\n",
       "      <td>id13761</td>\n",
       "      <td>Be this as it may, I now began to feel the ins...</td>\n",
       "      <td>197</td>\n",
       "      <td>2</td>\n",
       "      <td>MWS</td>\n",
       "    </tr>\n",
       "    <tr>\n",
       "      <th>8391</th>\n",
       "      <td>id04282</td>\n",
       "      <td>Long winded, statistical, and drearily genealo...</td>\n",
       "      <td>247</td>\n",
       "      <td>1</td>\n",
       "      <td>HPL</td>\n",
       "    </tr>\n",
       "  </tbody>\n",
       "</table>\n",
       "<p>8392 rows × 5 columns</p>\n",
       "</div>"
      ],
      "text/plain": [
       "           id                                               text  text_length  \\\n",
       "0     id02310  Still, as I urged our leaving Ireland with suc...          110   \n",
       "1     id24541  If a fire wanted fanning, it could readily be ...          330   \n",
       "2     id00134  And when they had broken down the frail door t...          189   \n",
       "3     id27757  While I was thinking how I should possibly man...          223   \n",
       "4     id04081  I am not sure to what limit his knowledge may ...           53   \n",
       "5     id27337  \"The thick and peculiar mist, or smoke, which ...          202   \n",
       "6     id24265  That which is not matter, is not at all unless...           68   \n",
       "7     id25917  I sought for repose although I did not hope fo...          155   \n",
       "8     id04951  Upon the fourth day of the assassination, a pa...          172   \n",
       "9     id14549         \"The tone metaphysical is also a good one.           42   \n",
       "10    id22505  These, the offspring of a later period, stood ...          257   \n",
       "11    id24002  What kept him from going with her and Brown Je...          262   \n",
       "12    id18982  Persuading the widow that my connexion with he...          191   \n",
       "13    id15181  When I arose trembling, I know not how much la...          149   \n",
       "14    id21888  And by the shores of the river Zaire there is ...           72   \n",
       "15    id12035  Idris heard of her mother's return with pleasure.           49   \n",
       "16    id17991  I say this proudly, but with tears in my eyes ...          100   \n",
       "17    id10707  But let us glance at the treatise Ah \"Ability ...          168   \n",
       "18    id07101  \"What a place is this that you inhabit, my son...          134   \n",
       "19    id00345  At his nod I took one of the latter and seated...          129   \n",
       "20    id05912  No one doubted now that the mystery of this mu...           89   \n",
       "21    id13443  But although, in one or two instances, arrests...          190   \n",
       "22    id09248  Festivity, and even libertinism, became the or...           61   \n",
       "23    id17542        For I am Iranon, who was a Prince in Aira.\"           43   \n",
       "24    id06995  \"Gaze not on the star, dear, generous friend,\"...          173   \n",
       "25    id25159  I am serious in asserting that my breath was e...           59   \n",
       "26    id25729  The thing will haunt me, for who can say the e...          133   \n",
       "27    id26949  Before each of the party lay a portion of a sk...           84   \n",
       "28    id27191  If she had been bred in that sphere of life to...          226   \n",
       "29    id07668  Or, if this mode of speech offend you, let me ...          316   \n",
       "...       ...                                                ...          ...   \n",
       "8362  id22510  Then again he distracted my thoughts from my s...          108   \n",
       "8363  id19204  Upon the whole, whether happily or unhappily, ...           99   \n",
       "8364  id05758  He was not allowed to finish this speech in tr...           57   \n",
       "8365  id27063  His looks were wild with terror, and he spoke ...           94   \n",
       "8366  id11773  By the quantity of provision which I had consu...          246   \n",
       "8367  id11562  I hurled after the scoundrel these vehement wo...          200   \n",
       "8368  id16208  Notwithstanding the hazardous object of our jo...          164   \n",
       "8369  id04036  I felt the greatest eagerness to hear the prom...          162   \n",
       "8370  id26159  But in the expression of the countenance, whic...          232   \n",
       "8371  id26777  Its decorations were rich, yet tattered and an...           52   \n",
       "8372  id08501  He directed my attention to some object agains...           57   \n",
       "8373  id11216  Hey? Haow'd ye like to hear the haowlin' night...          145   \n",
       "8374  id03410  She was buried not in a vault, but in an ordin...           87   \n",
       "8375  id04537  In company with this sprightly and clever Gree...          100   \n",
       "8376  id26628  In this unnerved in this pitiable condition I ...          188   \n",
       "8377  id01586  He was a scoundrel, and I don't blame you for ...          205   \n",
       "8378  id13421  But why should I dwell upon the incidents that...           85   \n",
       "8379  id26084  In the streets were spears of long grass, and ...          116   \n",
       "8380  id05375  When I first sought it, it was the love of vir...          162   \n",
       "8381  id23212  But it is in matters beyond the limits of mere...           93   \n",
       "8382  id15980  \"I may say an excellently well constructed house.           49   \n",
       "8383  id11719  Across a covered bridge one sees a small villa...          250   \n",
       "8384  id13109  You cannot take up a common newspaper in which...          107   \n",
       "8385  id07156  Consoling myself with this reflection, I was m...          419   \n",
       "8386  id04893  Yet we laughed and were merry in our proper wa...          183   \n",
       "8387  id11749         All this is now the fitter for my purpose.           42   \n",
       "8388  id10526                 I fixed myself on a wide solitude.           34   \n",
       "8389  id13477  It is easily understood that what might improv...          150   \n",
       "8390  id13761  Be this as it may, I now began to feel the ins...          197   \n",
       "8391  id04282  Long winded, statistical, and drearily genealo...          247   \n",
       "\n",
       "      num_author author  \n",
       "0              2    MWS  \n",
       "1              0    EAP  \n",
       "2              1    HPL  \n",
       "3              0    EAP  \n",
       "4              0    EAP  \n",
       "5              0    EAP  \n",
       "6              0    EAP  \n",
       "7              2    MWS  \n",
       "8              0    EAP  \n",
       "9              0    EAP  \n",
       "10             2    MWS  \n",
       "11             1    HPL  \n",
       "12             1    HPL  \n",
       "13             1    HPL  \n",
       "14             0    EAP  \n",
       "15             2    MWS  \n",
       "16             2    MWS  \n",
       "17             0    EAP  \n",
       "18             2    MWS  \n",
       "19             0    EAP  \n",
       "20             0    EAP  \n",
       "21             0    EAP  \n",
       "22             2    MWS  \n",
       "23             1    HPL  \n",
       "24             2    MWS  \n",
       "25             2    MWS  \n",
       "26             1    HPL  \n",
       "27             0    EAP  \n",
       "28             2    MWS  \n",
       "29             2    MWS  \n",
       "...          ...    ...  \n",
       "8362           2    MWS  \n",
       "8363           0    EAP  \n",
       "8364           2    MWS  \n",
       "8365           0    EAP  \n",
       "8366           2    MWS  \n",
       "8367           2    MWS  \n",
       "8368           2    MWS  \n",
       "8369           2    MWS  \n",
       "8370           0    EAP  \n",
       "8371           2    MWS  \n",
       "8372           0    EAP  \n",
       "8373           1    HPL  \n",
       "8374           0    EAP  \n",
       "8375           2    MWS  \n",
       "8376           0    EAP  \n",
       "8377           1    HPL  \n",
       "8378           2    MWS  \n",
       "8379           1    HPL  \n",
       "8380           2    MWS  \n",
       "8381           0    EAP  \n",
       "8382           0    EAP  \n",
       "8383           1    HPL  \n",
       "8384           0    EAP  \n",
       "8385           0    EAP  \n",
       "8386           1    HPL  \n",
       "8387           0    EAP  \n",
       "8388           2    MWS  \n",
       "8389           0    EAP  \n",
       "8390           2    MWS  \n",
       "8391           1    HPL  \n",
       "\n",
       "[8392 rows x 5 columns]"
      ]
     },
     "execution_count": 224,
     "metadata": {},
     "output_type": "execute_result"
    }
   ],
   "source": [
    "predicted_unauthored_contents"
   ]
  },
  {
   "cell_type": "code",
   "execution_count": null,
   "metadata": {},
   "outputs": [],
   "source": []
  }
 ],
 "metadata": {
  "kernelspec": {
   "display_name": "Python 3",
   "language": "python",
   "name": "python3"
  },
  "language_info": {
   "codemirror_mode": {
    "name": "ipython",
    "version": 3
   },
   "file_extension": ".py",
   "mimetype": "text/x-python",
   "name": "python",
   "nbconvert_exporter": "python",
   "pygments_lexer": "ipython3",
   "version": "3.5.5"
  }
 },
 "nbformat": 4,
 "nbformat_minor": 2
}
